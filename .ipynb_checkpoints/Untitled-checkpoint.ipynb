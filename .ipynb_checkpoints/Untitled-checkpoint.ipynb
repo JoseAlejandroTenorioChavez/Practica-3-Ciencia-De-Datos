{
 "cells": [
  {
   "cell_type": "markdown",
   "id": "42687414",
   "metadata": {},
   "source": [
    "# Practica 3\n",
    "\n",
    "### JOSE ALEJANDRO TENORIO CHAVEZ\n",
    "### 20120161"
   ]
  },
  {
   "cell_type": "markdown",
   "id": "54112348",
   "metadata": {},
   "source": [
    "### 1. Muestra los tipos de cada columna \n",
    "### En este paso tuve que utilizar el ISO-8859-1 por que si no me marcaba error , investigue y por lo que entendi se debe a que el dataset tiene caracteres que el codec por defecto de pandas no admite \n",
    "\n",
    "### Link de donde saque la solucion : https://stackoverflow.com/questions/18171739/unicodedecodeerror-when-reading-csv-file-in-pandas"
   ]
  },
  {
   "cell_type": "code",
   "execution_count": 3,
   "id": "09e9612b",
   "metadata": {},
   "outputs": [
    {
     "name": "stdout",
     "output_type": "stream",
     "text": [
      "rank                                  int64\n",
      "Youtuber                             object\n",
      "subscribers                           int64\n",
      "video views                         float64\n",
      "category                             object\n",
      "Title                                object\n",
      "uploads                               int64\n",
      "Country                              object\n",
      "Abbreviation                         object\n",
      "channel_type                         object\n",
      "video_views_rank                    float64\n",
      "country_rank                        float64\n",
      "channel_type_rank                   float64\n",
      "video_views_for_the_last_30_days    float64\n",
      "lowest_monthly_earnings             float64\n",
      "highest_monthly_earnings            float64\n",
      "lowest_yearly_earnings              float64\n",
      "highest_yearly_earnings             float64\n",
      "subscribers_for_last_30_days        float64\n",
      "created_year                        float64\n",
      "created_month                        object\n",
      "created_date                        float64\n",
      "dtype: object\n"
     ]
    }
   ],
   "source": [
    "import pandas as pd\n",
    "\n",
    "# Cargar el dataset utilizando ISO-8859-1 como codec\n",
    "df = pd.read_csv(\"Practica_Youtube.csv\", encoding=\"ISO-8859-1\")\n",
    "\n",
    "# Ver los tipos de cada columna\n",
    "print(df.dtypes)\n",
    "\n"
   ]
  },
  {
   "cell_type": "markdown",
   "id": "1b0e2c02",
   "metadata": {},
   "source": [
    "### 2. Indentifique los nulos que hay por columna"
   ]
  },
  {
   "cell_type": "code",
   "execution_count": 5,
   "id": "6e781870",
   "metadata": {},
   "outputs": [
    {
     "name": "stdout",
     "output_type": "stream",
     "text": [
      "rank                                  0\n",
      "Youtuber                              0\n",
      "subscribers                           0\n",
      "video views                           0\n",
      "category                             46\n",
      "Title                                 0\n",
      "uploads                               0\n",
      "Country                             122\n",
      "Abbreviation                        122\n",
      "channel_type                         30\n",
      "video_views_rank                      1\n",
      "country_rank                        116\n",
      "channel_type_rank                    33\n",
      "video_views_for_the_last_30_days     56\n",
      "lowest_monthly_earnings               0\n",
      "highest_monthly_earnings              0\n",
      "lowest_yearly_earnings                0\n",
      "highest_yearly_earnings               0\n",
      "subscribers_for_last_30_days        337\n",
      "created_year                          5\n",
      "created_month                         5\n",
      "created_date                          5\n",
      "dtype: int64\n"
     ]
    }
   ],
   "source": [
    "# Contar valores nulos por columna\n",
    "print(df.isnull().sum())\n"
   ]
  },
  {
   "cell_type": "markdown",
   "id": "50d69766",
   "metadata": {},
   "source": [
    "### Tratar datos Nulos\n"
   ]
  },
  {
   "cell_type": "code",
   "execution_count": 7,
   "id": "de9848cd",
   "metadata": {},
   "outputs": [
    {
     "name": "stdout",
     "output_type": "stream",
     "text": [
      "rank                                0\n",
      "Youtuber                            0\n",
      "subscribers                         0\n",
      "video views                         0\n",
      "category                            0\n",
      "Title                               0\n",
      "uploads                             0\n",
      "Country                             0\n",
      "Abbreviation                        0\n",
      "channel_type                        0\n",
      "video_views_rank                    0\n",
      "country_rank                        0\n",
      "channel_type_rank                   9\n",
      "video_views_for_the_last_30_days    0\n",
      "lowest_monthly_earnings             0\n",
      "highest_monthly_earnings            0\n",
      "lowest_yearly_earnings              0\n",
      "highest_yearly_earnings             0\n",
      "subscribers_for_last_30_days        0\n",
      "created_year                        0\n",
      "created_month                       3\n",
      "created_date                        0\n",
      "dtype: int64\n"
     ]
    }
   ],
   "source": [
    "# Tratar los valores nulos en cada columna\n",
    "\n",
    "# 1. Llenar valores nulos en 'category' con la moda (valor más común)\n",
    "df['category'].fillna(df['category'].mode()[0], inplace=True)\n",
    "\n",
    "# 2. Eliminar filas con valores nulos en 'Country' y 'Abbreviation' \n",
    "df.dropna(subset=['Country', 'Abbreviation'], inplace=True)\n",
    "\n",
    "# 3. Llenar valores nulos en 'channel_type' con la moda (valor más común)\n",
    "df['channel_type'].fillna(df['channel_type'].mode()[0], inplace=True)\n",
    "\n",
    "# 4. Llenar valores nulos en 'video_views_rank' con el promedio de la columna\n",
    "df['video_views_rank'].fillna(df['video_views_rank'].mean(), inplace=True)\n",
    "\n",
    "# 5. Llenar valores nulos en 'country_rank' con el promedio de la columna\n",
    "df['country_rank'].fillna(df['country_rank'].mean(), inplace=True)\n",
    "\n",
    "# 6. Llenar valores nulos en 'video_views_for_the_last_30_days' con interpolación\n",
    "df['video_views_for_the_last_30_days'].interpolate(method='linear', inplace=True)\n",
    "\n",
    "# 7. Llenar valores nulos en 'subscribers_for_last_30_days' con la mediana de la columna\n",
    "df['subscribers_for_last_30_days'].fillna(df['subscribers_for_last_30_days'].median(), inplace=True)\n",
    "\n",
    "# 8. Llenar valores nulos en 'created_year', 'created_month', y 'created_date' con interpolación\n",
    "df['created_year'].interpolate(method='linear', inplace=True)\n",
    "df['created_month'].interpolate(method='linear', inplace=True)\n",
    "df['created_date'].interpolate(method='linear', inplace=True)\n",
    "\n",
    "# Verificar nuevamente si quedan valores nulos\n",
    "valores_nulos_actualizados = df.isnull().sum()\n",
    "print(valores_nulos_actualizados)"
   ]
  },
  {
   "cell_type": "code",
   "execution_count": null,
   "id": "66be23eb",
   "metadata": {},
   "outputs": [],
   "source": []
  }
 ],
 "metadata": {
  "kernelspec": {
   "display_name": "Python 3 (ipykernel)",
   "language": "python",
   "name": "python3"
  },
  "language_info": {
   "codemirror_mode": {
    "name": "ipython",
    "version": 3
   },
   "file_extension": ".py",
   "mimetype": "text/x-python",
   "name": "python",
   "nbconvert_exporter": "python",
   "pygments_lexer": "ipython3",
   "version": "3.11.4"
  }
 },
 "nbformat": 4,
 "nbformat_minor": 5
}
