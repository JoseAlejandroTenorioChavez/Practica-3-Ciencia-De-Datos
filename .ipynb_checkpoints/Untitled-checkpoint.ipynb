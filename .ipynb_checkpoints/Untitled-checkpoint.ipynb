{
 "cells": [
  {
   "cell_type": "markdown",
   "id": "42687414",
   "metadata": {},
   "source": [
    "# Practica 3\n",
    "\n",
    "### JOSE ALEJANDRO TENORIO CHAVEZ\n",
    "### 20120161"
   ]
  },
  {
   "cell_type": "markdown",
   "id": "54112348",
   "metadata": {},
   "source": [
    "### 1. Muestra los tipos de cada columna \n",
    "### En este paso tuve que utilizar el ISO-8859-1 por que si no me marcaba error , investigue y por lo que entendi se debe a que el dataset tiene caracteres que el codec por defecto de pandas no admite \n",
    "\n",
    "### Link de donde saque la solucion : https://stackoverflow.com/questions/18171739/unicodedecodeerror-when-reading-csv-file-in-pandas"
   ]
  },
  {
   "cell_type": "code",
   "execution_count": 3,
   "id": "09e9612b",
   "metadata": {},
   "outputs": [
    {
     "name": "stdout",
     "output_type": "stream",
     "text": [
      "rank                                  int64\n",
      "Youtuber                             object\n",
      "subscribers                           int64\n",
      "video views                         float64\n",
      "category                             object\n",
      "Title                                object\n",
      "uploads                               int64\n",
      "Country                              object\n",
      "Abbreviation                         object\n",
      "channel_type                         object\n",
      "video_views_rank                    float64\n",
      "country_rank                        float64\n",
      "channel_type_rank                   float64\n",
      "video_views_for_the_last_30_days    float64\n",
      "lowest_monthly_earnings             float64\n",
      "highest_monthly_earnings            float64\n",
      "lowest_yearly_earnings              float64\n",
      "highest_yearly_earnings             float64\n",
      "subscribers_for_last_30_days        float64\n",
      "created_year                        float64\n",
      "created_month                        object\n",
      "created_date                        float64\n",
      "dtype: object\n"
     ]
    }
   ],
   "source": [
    "import pandas as pd\n",
    "\n",
    "# Cargar el dataset utilizando ISO-8859-1 como codec\n",
    "df = pd.read_csv(\"Practica_Youtube.csv\", encoding=\"ISO-8859-1\")\n",
    "\n",
    "# Ver los tipos de cada columna\n",
    "print(df.dtypes)\n",
    "\n"
   ]
  },
  {
   "cell_type": "markdown",
   "id": "1b0e2c02",
   "metadata": {},
   "source": [
    "### 2. Indentifique los nulos que hay por columna"
   ]
  },
  {
   "cell_type": "code",
   "execution_count": 5,
   "id": "6e781870",
   "metadata": {},
   "outputs": [
    {
     "name": "stdout",
     "output_type": "stream",
     "text": [
      "rank                                  0\n",
      "Youtuber                              0\n",
      "subscribers                           0\n",
      "video views                           0\n",
      "category                             46\n",
      "Title                                 0\n",
      "uploads                               0\n",
      "Country                             122\n",
      "Abbreviation                        122\n",
      "channel_type                         30\n",
      "video_views_rank                      1\n",
      "country_rank                        116\n",
      "channel_type_rank                    33\n",
      "video_views_for_the_last_30_days     56\n",
      "lowest_monthly_earnings               0\n",
      "highest_monthly_earnings              0\n",
      "lowest_yearly_earnings                0\n",
      "highest_yearly_earnings               0\n",
      "subscribers_for_last_30_days        337\n",
      "created_year                          5\n",
      "created_month                         5\n",
      "created_date                          5\n",
      "dtype: int64\n"
     ]
    }
   ],
   "source": [
    "# Contar valores nulos por columna\n",
    "print(df.isnull().sum())\n"
   ]
  },
  {
   "cell_type": "markdown",
   "id": "50d69766",
   "metadata": {},
   "source": [
    "### Tratar datos Nulos\n"
   ]
  },
  {
   "cell_type": "code",
   "execution_count": 7,
   "id": "de9848cd",
   "metadata": {},
   "outputs": [
    {
     "name": "stdout",
     "output_type": "stream",
     "text": [
      "rank                                0\n",
      "Youtuber                            0\n",
      "subscribers                         0\n",
      "video views                         0\n",
      "category                            0\n",
      "Title                               0\n",
      "uploads                             0\n",
      "Country                             0\n",
      "Abbreviation                        0\n",
      "channel_type                        0\n",
      "video_views_rank                    0\n",
      "country_rank                        0\n",
      "channel_type_rank                   9\n",
      "video_views_for_the_last_30_days    0\n",
      "lowest_monthly_earnings             0\n",
      "highest_monthly_earnings            0\n",
      "lowest_yearly_earnings              0\n",
      "highest_yearly_earnings             0\n",
      "subscribers_for_last_30_days        0\n",
      "created_year                        0\n",
      "created_month                       3\n",
      "created_date                        0\n",
      "dtype: int64\n"
     ]
    }
   ],
   "source": [
    "# Tratar los valores nulos en cada columna\n",
    "\n",
    "# 1. Llenar valores nulos en 'category' con la moda (valor más común)\n",
    "df['category'].fillna(df['category'].mode()[0], inplace=True)\n",
    "\n",
    "# 2. Eliminar filas con valores nulos en 'Country' y 'Abbreviation' \n",
    "df.dropna(subset=['Country', 'Abbreviation'], inplace=True)\n",
    "\n",
    "# 3. Llenar valores nulos en 'channel_type' con la moda (valor más común)\n",
    "df['channel_type'].fillna(df['channel_type'].mode()[0], inplace=True)\n",
    "\n",
    "# 4. Llenar valores nulos en 'video_views_rank' con el promedio de la columna\n",
    "df['video_views_rank'].fillna(df['video_views_rank'].mean(), inplace=True)\n",
    "\n",
    "# 5. Llenar valores nulos en 'country_rank' con el promedio de la columna\n",
    "df['country_rank'].fillna(df['country_rank'].mean(), inplace=True)\n",
    "\n",
    "# 6. Llenar valores nulos en 'video_views_for_the_last_30_days' con interpolación\n",
    "df['video_views_for_the_last_30_days'].interpolate(method='linear', inplace=True)\n",
    "\n",
    "# 7. Llenar valores nulos en 'subscribers_for_last_30_days' con la mediana de la columna\n",
    "df['subscribers_for_last_30_days'].fillna(df['subscribers_for_last_30_days'].median(), inplace=True)\n",
    "\n",
    "# 8. Llenar valores nulos en 'created_year', 'created_month', y 'created_date' con interpolación\n",
    "df['created_year'].interpolate(method='linear', inplace=True)\n",
    "df['created_month'].interpolate(method='linear', inplace=True)\n",
    "df['created_date'].interpolate(method='linear', inplace=True)\n",
    "\n",
    "# Verificar nuevamente si quedan valores nulos\n",
    "valores_nulos_actualizados = df.isnull().sum()\n",
    "print(valores_nulos_actualizados)"
   ]
  },
  {
   "cell_type": "code",
   "execution_count": 9,
   "id": "66be23eb",
   "metadata": {},
   "outputs": [
    {
     "name": "stdout",
     "output_type": "stream",
     "text": [
      "rank                                0\n",
      "Youtuber                            0\n",
      "subscribers                         0\n",
      "video views                         0\n",
      "category                            0\n",
      "Title                               0\n",
      "uploads                             0\n",
      "Country                             0\n",
      "Abbreviation                        0\n",
      "channel_type                        0\n",
      "video_views_rank                    0\n",
      "country_rank                        0\n",
      "channel_type_rank                   0\n",
      "video_views_for_the_last_30_days    0\n",
      "lowest_monthly_earnings             0\n",
      "highest_monthly_earnings            0\n",
      "lowest_yearly_earnings              0\n",
      "highest_yearly_earnings             0\n",
      "subscribers_for_last_30_days        0\n",
      "created_year                        0\n",
      "created_month                       3\n",
      "created_date                        0\n",
      "dtype: int64\n"
     ]
    }
   ],
   "source": [
    "\n",
    "\n",
    "df['channel_type_rank'].fillna(df['channel_type_rank'].mode()[0], inplace=True)\n",
    "\n",
    "# Verificar nuevamente si quedan valores nulos\n",
    "valores_nulos_actualizados = df.isnull().sum()\n",
    "print(valores_nulos_actualizados)"
   ]
  },
  {
   "cell_type": "markdown",
   "id": "cde1a544",
   "metadata": {},
   "source": [
    "### 3. Dependiendo del tamaño de suscriptores del canal, cree una columna con “size” y proponga las etiquetas que pueden usarse para la categorización, por ejemplo:\n",
    "### “mini: 10k, small: 100k, amateur: 1M, professional: 10M, star: +30M”\n"
   ]
  },
  {
   "cell_type": "code",
   "execution_count": 21,
   "id": "003b0e83",
   "metadata": {},
   "outputs": [],
   "source": [
    "\n",
    "# Define una función para categorizar el tamaño de suscriptores.\n",
    "def categorize_subscribers(subscribers):\n",
    "    if subscribers > 200000000:\n",
    "        return \"Estrella\"\n",
    "    elif 100000000 <= subscribers <= 200000000:\n",
    "        return \"Profesional\"\n",
    "    elif 50000000 <= subscribers < 100000000:\n",
    "        return \"Avanzado\"\n",
    "    elif 25000000 <= subscribers < 50000000:\n",
    "        return \"Intermedio\"\n",
    "    elif 12300000 <= subscribers < 25000000:\n",
    "        return \"Iniciante\"\n",
    "    else:\n",
    "        return \"Otro\"\n",
    "\n",
    "\n",
    "# Aplica la función a la columna 'subscribers' para crear la columna 'size'.\n",
    "df['size'] = df['subscribers'].apply(categorize_subscribers)\n",
    "\n",
    "\n",
    "\n"
   ]
  },
  {
   "cell_type": "code",
   "execution_count": 22,
   "id": "a692c92b",
   "metadata": {},
   "outputs": [
    {
     "name": "stdout",
     "output_type": "stream",
     "text": [
      "Iniciante      670\n",
      "Intermedio     163\n",
      "Avanzado        32\n",
      "Profesional      7\n",
      "Estrella         1\n",
      "Name: size, dtype: int64\n"
     ]
    }
   ],
   "source": [
    "# Utiliza la función value_counts() para contar las categorías y almacenar los resultados en una nueva variable.\n",
    "size_counts = df['size'].value_counts()\n",
    "\n",
    "# Muestra el conteo de cada categoría.\n",
    "print(size_counts)"
   ]
  },
  {
   "cell_type": "markdown",
   "id": "01bfe26d",
   "metadata": {},
   "source": [
    "### 4. Con la categorización general realizada, revise si hay inconsistencias, es decir, si se definieron 4 categorías para una columna, analice los datos que están fuera de esas categorías.\n"
   ]
  },
  {
   "cell_type": "code",
   "execution_count": 24,
   "id": "e10eb1ac",
   "metadata": {},
   "outputs": [
    {
     "data": {
      "image/png": "[encoded data removed]",
      "text/plain": [
       "<Figure size 800x600 with 1 Axes>"
      ]
     },
     "metadata": {},
     "output_type": "display_data"
    }
   ],
   "source": [
    "import pandas as pd\n",
    "import matplotlib.pyplot as plt\n",
    "\n",
    "# Calcula la distribución de las categorías.\n",
    "distribucion_categorias = df['size'].value_counts()\n",
    "\n",
    "# Crea un gráfico de barras para visualizar la distribución.\n",
    "plt.figure(figsize=(8, 6))\n",
    "distribucion_categorias.plot(kind='bar', color='skyblue')\n",
    "plt.xlabel('Categoría')\n",
    "plt.ylabel('Cantidad')\n",
    "plt.title('Distribución de Categorías')\n",
    "\n",
    "# Muestra el gráfico.\n",
    "plt.show()\n",
    "\n"
   ]
  },
  {
   "cell_type": "markdown",
   "id": "b5e51094",
   "metadata": {},
   "source": [
    "### No parece tener incosistencias "
   ]
  },
  {
   "cell_type": "markdown",
   "id": "3f6e8f45",
   "metadata": {},
   "source": [
    "### 5. Haga una columna nueva llamada “average_monthly_earnings”, producto del promedio las columnas “lowest_monthly_earnings” y “highest_monthly_earnings”."
   ]
  },
  {
   "cell_type": "code",
   "execution_count": 26,
   "id": "fdfbc28d",
   "metadata": {},
   "outputs": [],
   "source": [
    "# Calcula el promedio y crea la nueva columna 'average_monthly_earnings'.\n",
    "df['average_monthly_earnings'] = (df['lowest_monthly_earnings'] + df['highest_monthly_earnings']) / 2"
   ]
  },
  {
   "cell_type": "code",
   "execution_count": 30,
   "id": "67301bb3",
   "metadata": {},
   "outputs": [
    {
     "data": {
      "image/png": "[encoded data removed]",
      "text/plain": [
       "<Figure size 640x480 with 1 Axes>"
      ]
     },
     "metadata": {},
     "output_type": "display_data"
    }
   ],
   "source": [
    "import matplotlib.pyplot as plt\n",
    "\n",
    "# Box plot para identificar valores atípicos\n",
    "df.boxplot(column=['average_monthly_earnings'])\n",
    "plt.show()"
   ]
  },
  {
   "cell_type": "markdown",
   "id": "e478fb13",
   "metadata": {},
   "source": [
    "### En en el cuadro de codigo anterior revisamos que la columna tiene valores anomalos y ahora vamos a tratar de resolverlo "
   ]
  },
  {
   "cell_type": "code",
   "execution_count": 34,
   "id": "79688012",
   "metadata": {},
   "outputs": [
    {
     "name": "stdout",
     "output_type": "stream",
     "text": [
      "     rank                  Youtuber  subscribers   video views  \\\n",
      "7       8                 PewDiePie    111000000  2.905804e+10   \n",
      "8       9               Like Nastya    106000000  9.047906e+10   \n",
      "17     18                 BANGTANTV     75600000  2.082699e+10   \n",
      "19     20             Justin Bieber     71600000  3.060812e+10   \n",
      "25     26      Shemaroo Filmi Gaane     65600000  2.864802e+10   \n",
      "..    ...                       ...          ...           ...   \n",
      "987   988             Avril Lavigne     12400000  6.202090e+09   \n",
      "988   989                    Caylus     12400000  4.779140e+09   \n",
      "989   990                 Migos ATL     12400000  6.993406e+09   \n",
      "991   992  Free Fire India Official     12300000  1.674410e+09   \n",
      "994   995              Make Joke Of     12300000  2.129774e+09   \n",
      "\n",
      "           category                     Title  uploads        Country  \\\n",
      "7            Gaming                 PewDiePie     4716          Japan   \n",
      "8    People & Blogs          Like Nastya Vlog      493         Russia   \n",
      "17            Music                 BANGTANTV     2281    South Korea   \n",
      "19            Music             Justin Bieber      249         Canada   \n",
      "25            Music      Shemaroo Filmi Gaane     8502          India   \n",
      "..              ...                       ...      ...            ...   \n",
      "987           Music             Avril Lavigne      205  United States   \n",
      "988       Education                    Caylus     1340  United States   \n",
      "989           Music                 Migos ATL       99  United States   \n",
      "991  People & Blogs  Free Fire India Official     1500          India   \n",
      "994          Comedy              Make Joke Of       62          India   \n",
      "\n",
      "    Abbreviation   channel_type  ...  lowest_monthly_earnings  \\\n",
      "7             JP  Entertainment  ...                   9800.0   \n",
      "8             RU         People  ...                  12200.0   \n",
      "17            KR          Music  ...                  42100.0   \n",
      "19            CA          Music  ...                  44100.0   \n",
      "25            IN          Music  ...                  63700.0   \n",
      "..           ...            ...  ...                      ...   \n",
      "987           US          Music  ...                  12500.0   \n",
      "988           US          Games  ...                  44400.0   \n",
      "989           US  Entertainment  ...                  12400.0   \n",
      "991           IN          Games  ...                  16200.0   \n",
      "994           IN         Comedy  ...                   6000.0   \n",
      "\n",
      "     highest_monthly_earnings  lowest_yearly_earnings  \\\n",
      "7                    156700.0                117600.0   \n",
      "8                    195800.0                146800.0   \n",
      "17                   673200.0                504900.0   \n",
      "19                   705300.0                529000.0   \n",
      "25                  1000000.0                764900.0   \n",
      "..                        ...                     ...   \n",
      "987                  200800.0                150600.0   \n",
      "988                  710400.0                532800.0   \n",
      "989                  197600.0                148200.0   \n",
      "991                  258900.0                194200.0   \n",
      "994                   96000.0                 72000.0   \n",
      "\n",
      "     highest_yearly_earnings  subscribers_for_last_30_days  created_year  \\\n",
      "7                  1900000.0                      200000.0        2010.0   \n",
      "8                  2300000.0                      100000.0        2016.0   \n",
      "17                 8100000.0                      400000.0        2012.0   \n",
      "19                 8500000.0                      100000.0        2007.0   \n",
      "25                12200000.0                      400000.0        2010.0   \n",
      "..                       ...                           ...           ...   \n",
      "987                2400000.0                      200000.0        2005.0   \n",
      "988                8500000.0                      400000.0        2016.0   \n",
      "989                2400000.0                      100000.0        2012.0   \n",
      "991                3100000.0                      300000.0        2018.0   \n",
      "994                1200000.0                      100000.0        2017.0   \n",
      "\n",
      "     created_month  created_date         size  average_monthly_earnings  \n",
      "7              Apr          29.0  Profesional                   83250.0  \n",
      "8              Jan          14.0  Profesional                  104000.0  \n",
      "17             Dec          17.0     Avanzado                  357650.0  \n",
      "19             Jan          15.0     Avanzado                  374700.0  \n",
      "25             Jun          11.0     Avanzado                  531850.0  \n",
      "..             ...           ...          ...                       ...  \n",
      "987            Oct           8.0    Iniciante                  106650.0  \n",
      "988            Apr           6.0    Iniciante                  377400.0  \n",
      "989            Jan          17.0    Iniciante                  105000.0  \n",
      "991            Sep          14.0    Iniciante                  137550.0  \n",
      "994            Aug           1.0    Iniciante                   51000.0  \n",
      "\n",
      "[668 rows x 24 columns]\n"
     ]
    },
    {
     "data": {
      "image/png": "[encoded data removed]",
      "text/plain": [
       "<Figure size 640x480 with 1 Axes>"
      ]
     },
     "metadata": {},
     "output_type": "display_data"
    }
   ],
   "source": [
    "# Calcular el primer y tercer cuartil (Q1 y Q3).\n",
    "Q1 = df['average_monthly_earnings'].quantile(0.25)\n",
    "Q3 = df['average_monthly_earnings'].quantile(0.75)\n",
    "\n",
    "# Calcular el rango intercuartil (IQR).\n",
    "IQR = Q3 - Q1\n",
    "\n",
    "# Definir los límites inferior y superior para los valores atípicos.\n",
    "limite_inferior = Q1 - 1.5 * IQR\n",
    "limite_superior = Q3 + 1.5 * IQR\n",
    "\n",
    "# Aplicar un filtro para mantener solo las filas dentro de los límites.\n",
    "df = df[(df['average_monthly_earnings'] >= limite_inferior) & (df['average_monthly_earnings'] <= limite_superior)]\n",
    "\n",
    "# Muestra el dataframe resultante sin las filas de anomalías.\n",
    "print(df)\n",
    "\n",
    "\n",
    "# Box plot para identificar valores atípicos\n",
    "df.boxplot(column=['average_monthly_earnings'])\n",
    "plt.show()\n"
   ]
  },
  {
   "cell_type": "code",
   "execution_count": 35,
   "id": "9efa99e4",
   "metadata": {},
   "outputs": [
    {
     "name": "stdout",
     "output_type": "stream",
     "text": [
      "                          lowest_monthly_earnings  highest_monthly_earnings  \\\n",
      "lowest_monthly_earnings                  1.000000                  0.999745   \n",
      "highest_monthly_earnings                 0.999745                  1.000000   \n",
      "average_monthly_earnings                 0.999774                  0.999999   \n",
      "\n",
      "                          average_monthly_earnings  \n",
      "lowest_monthly_earnings                   0.999774  \n",
      "highest_monthly_earnings                  0.999999  \n",
      "average_monthly_earnings                  1.000000  \n"
     ]
    }
   ],
   "source": [
    "# Asegúrate de que las columnas relevantes sean numéricas.\n",
    "# Si alguna columna no es numérica, puedes convertirla si es posible.\n",
    "df['lowest_monthly_earnings'] = pd.to_numeric(df['lowest_monthly_earnings'], errors='coerce')\n",
    "df['highest_monthly_earnings'] = pd.to_numeric(df['highest_monthly_earnings'], errors='coerce')\n",
    "df['average_monthly_earnings'] = pd.to_numeric(df['average_monthly_earnings'], errors='coerce')\n",
    "\n",
    "# Elimina filas con valores faltantes después de la conversión.\n",
    "df.dropna(subset=['lowest_monthly_earnings', 'highest_monthly_earnings', 'average_monthly_earnings'], inplace=True)\n",
    "\n",
    "# Calcula la matriz de correlación.\n",
    "correlation_matrix = df[['lowest_monthly_earnings', 'highest_monthly_earnings', 'average_monthly_earnings']].corr()\n",
    "\n",
    "# Muestra la matriz de correlación.\n",
    "print(correlation_matrix)\n"
   ]
  },
  {
   "cell_type": "markdown",
   "id": "ac87bd3b",
   "metadata": {},
   "source": [
    "## Preguntas\n",
    "### ¿Qué tipo de correlación tiene el tipo de canal con las ganancias mensuales promedio?"
   ]
  },
  {
   "cell_type": "code",
   "execution_count": 36,
   "id": "5f9ec3cc",
   "metadata": {},
   "outputs": [
    {
     "name": "stdout",
     "output_type": "stream",
     "text": [
      "channel_type\n",
      "Autos            744150.000000\n",
      "Comedy           182984.375000\n",
      "Education        248786.904762\n",
      "Entertainment    209740.972222\n",
      "Film             274787.500000\n",
      "Games            151599.230769\n",
      "Howto            117983.928571\n",
      "Music            246201.234568\n",
      "News             363619.565217\n",
      "Nonprofit        207400.000000\n",
      "People           219517.777778\n",
      "Sports           222788.888889\n",
      "Tech             130310.000000\n",
      "Name: average_monthly_earnings, dtype: float64\n"
     ]
    }
   ],
   "source": [
    "# Agrupa el dataframe por 'channel_type' y calcula las ganancias mensuales promedio.\n",
    "promedio_ganancias_por_tipo_de_canal = df.groupby('channel_type')['average_monthly_earnings'].mean()\n",
    "\n",
    "# Muestra las estadísticas descriptivas por tipo de canal.\n",
    "print(promedio_ganancias_por_tipo_de_canal)\n"
   ]
  },
  {
   "cell_type": "markdown",
   "id": "67191e62",
   "metadata": {},
   "source": [
    "### Los canales de autos suelen tener mayores ingresos que el resto de categorias\n"
   ]
  },
  {
   "cell_type": "markdown",
   "id": "3e5784b5",
   "metadata": {},
   "source": [
    "###  ¿Cuál país (abbreviation) tiene mayor ingreso mensual en promedio?"
   ]
  },
  {
   "cell_type": "code",
   "execution_count": 37,
   "id": "5900fae2",
   "metadata": {},
   "outputs": [
    {
     "name": "stdout",
     "output_type": "stream",
     "text": [
      "País con mayor ingreso mensual promedio: CO\n"
     ]
    }
   ],
   "source": [
    "# Agrupa el dataframe por 'Abbreviation' (país) y calcula las ganancias mensuales promedio.\n",
    "promedio_ganancias_por_pais = df.groupby('Abbreviation')['average_monthly_earnings'].mean()\n",
    "\n",
    "# Encuentra el país con el mayor ingreso mensual promedio.\n",
    "pais_con_mayor_ingreso = promedio_ganancias_por_pais.idxmax()\n",
    "\n",
    "print(\"País con mayor ingreso mensual promedio:\", pais_con_mayor_ingreso)\n"
   ]
  },
  {
   "cell_type": "markdown",
   "id": "06c02d50",
   "metadata": {},
   "source": [
    "### ¿Qué Youtuber tiene menor ingreso mensual promedio?"
   ]
  },
  {
   "cell_type": "code",
   "execution_count": 38,
   "id": "21017b69",
   "metadata": {},
   "outputs": [
    {
     "name": "stdout",
     "output_type": "stream",
     "text": [
      "Youtuber con menor ingreso mensual promedio: Maha Fun Tv\n"
     ]
    }
   ],
   "source": [
    "# Agrupa el dataframe por 'Youtuber' y calcula las ganancias mensuales promedio.\n",
    "promedio_ganancias_por_youtuber = df.groupby('Youtuber')['average_monthly_earnings'].mean()\n",
    "\n",
    "# Encuentra el Youtuber con el menor ingreso mensual promedio.\n",
    "youtuber_con_menor_ingreso = promedio_ganancias_por_youtuber.idxmin()\n",
    "\n",
    "print(\"Youtuber con menor ingreso mensual promedio:\", youtuber_con_menor_ingreso)\n"
   ]
  },
  {
   "cell_type": "code",
   "execution_count": null,
   "id": "70eac9c7",
   "metadata": {},
   "outputs": [],
   "source": []
  }
 ],
 "metadata": {
  "kernelspec": {
   "display_name": "Python 3 (ipykernel)",
   "language": "python",
   "name": "python3"
  },
  "language_info": {
   "codemirror_mode": {
    "name": "ipython",
    "version": 3
   },
   "file_extension": ".py",
   "mimetype": "text/x-python",
   "name": "python",
   "nbconvert_exporter": "python",
   "pygments_lexer": "ipython3",
   "version": "3.11.4"
  }
 },
 "nbformat": 4,
 "nbformat_minor": 5
}
